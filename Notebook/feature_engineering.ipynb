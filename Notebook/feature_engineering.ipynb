{
 "cells": [
  {
   "cell_type": "code",
   "execution_count": 39,
   "metadata": {},
   "outputs": [],
   "source": [
    "file_path = \"/home/ali47/Desktop/project_2/Finance_Complaint/finance_artifact/data_validation/20230207_165129/accepted_data/finance_complaint\""
   ]
  },
  {
   "cell_type": "code",
   "execution_count": 2,
   "metadata": {},
   "outputs": [
    {
     "name": "stderr",
     "output_type": "stream",
     "text": [
      "bash: /home/ali47/anaconda3/lib/libtinfo.so.6: no version information available (required by bash)\n",
      "bash: /home/ali47/anaconda3/lib/libtinfo.so.6: no version information available (required by bash)\n",
      "23/02/09 02:20:19 WARN Utils: Your hostname, md-lenovo resolves to a loopback address: 127.0.1.1; using 192.168.29.135 instead (on interface wlp2s0)\n",
      "23/02/09 02:20:19 WARN Utils: Set SPARK_LOCAL_IP if you need to bind to another address\n",
      "WARNING: An illegal reflective access operation has occurred\n",
      "WARNING: Illegal reflective access by org.apache.spark.unsafe.Platform (file:/home/ali47/Desktop/project_2/Finance_Complaint/venv_project2/lib/python3.8/site-packages/pyspark/jars/spark-unsafe_2.12-3.2.1.jar) to constructor java.nio.DirectByteBuffer(long,int)\n",
      "WARNING: Please consider reporting this to the maintainers of org.apache.spark.unsafe.Platform\n",
      "WARNING: Use --illegal-access=warn to enable warnings of further illegal reflective access operations\n",
      "WARNING: All illegal access operations will be denied in a future release\n"
     ]
    },
    {
     "name": "stdout",
     "output_type": "stream",
     "text": [
      ":: loading settings :: url = jar:file:/home/ali47/Desktop/project_2/Finance_Complaint/venv_project2/lib/python3.8/site-packages/pyspark/jars/ivy-2.5.0.jar!/org/apache/ivy/core/settings/ivysettings.xml\n"
     ]
    },
    {
     "name": "stderr",
     "output_type": "stream",
     "text": [
      "Ivy Default Cache set to: /home/ali47/.ivy2/cache\n",
      "The jars for the packages stored in: /home/ali47/.ivy2/jars\n",
      "com.amazonaws#aws-java-sdk added as a dependency\n",
      "org.apache.hadoop#hadoop-aws added as a dependency\n",
      ":: resolving dependencies :: org.apache.spark#spark-submit-parent-2703b1df-9388-4fe8-bc77-77d51bc92963;1.0\n",
      "\tconfs: [default]\n",
      "\tfound com.amazonaws#aws-java-sdk;1.7.4 in central\n",
      "\tfound commons-logging#commons-logging;1.1.1 in central\n",
      "\tfound org.apache.httpcomponents#httpclient;4.2 in central\n",
      "\tfound org.apache.httpcomponents#httpcore;4.2 in central\n",
      "\tfound commons-codec#commons-codec;1.3 in central\n",
      "\tfound com.fasterxml.jackson.core#jackson-core;2.1.1 in central\n",
      "\tfound com.fasterxml.jackson.core#jackson-databind;2.1.1 in central\n",
      "\tfound com.fasterxml.jackson.core#jackson-annotations;2.1.1 in central\n",
      "\tfound joda-time#joda-time;2.12.2 in central\n",
      "\t[2.12.2] joda-time#joda-time;[2.2,)\n",
      "\tfound org.apache.hadoop#hadoop-aws;2.7.3 in central\n",
      "\tfound org.apache.hadoop#hadoop-common;2.7.3 in central\n",
      "\tfound org.apache.hadoop#hadoop-annotations;2.7.3 in central\n",
      "\tfound com.google.guava#guava;11.0.2 in central\n",
      "\tfound com.google.code.findbugs#jsr305;3.0.0 in central\n",
      "\tfound commons-cli#commons-cli;1.2 in central\n",
      "\tfound org.apache.commons#commons-math3;3.1.1 in central\n",
      "\tfound xmlenc#xmlenc;0.52 in central\n",
      "\tfound commons-httpclient#commons-httpclient;3.1 in central\n",
      "\tfound commons-logging#commons-logging;1.1.3 in central\n",
      "\tfound commons-codec#commons-codec;1.4 in central\n",
      "\tfound commons-io#commons-io;2.4 in central\n",
      "\tfound commons-net#commons-net;3.1 in central\n",
      "\tfound commons-collections#commons-collections;3.2.2 in central\n",
      "\tfound javax.servlet#servlet-api;2.5 in central\n",
      "\tfound org.mortbay.jetty#jetty;6.1.26 in central\n",
      "\tfound org.mortbay.jetty#jetty-util;6.1.26 in central\n",
      "\tfound com.sun.jersey#jersey-core;1.9 in central\n",
      "\tfound com.sun.jersey#jersey-json;1.9 in central\n",
      "\tfound org.codehaus.jettison#jettison;1.1 in central\n",
      "\tfound com.sun.xml.bind#jaxb-impl;2.2.3-1 in central\n",
      "\tfound javax.xml.bind#jaxb-api;2.2.2 in central\n",
      "\tfound javax.xml.stream#stax-api;1.0-2 in central\n",
      "\tfound javax.activation#activation;1.1 in central\n",
      "\tfound org.codehaus.jackson#jackson-core-asl;1.9.13 in central\n",
      "\tfound org.codehaus.jackson#jackson-mapper-asl;1.9.13 in central\n",
      "\tfound org.codehaus.jackson#jackson-jaxrs;1.9.13 in central\n",
      "\tfound org.codehaus.jackson#jackson-xc;1.9.13 in central\n",
      "\tfound com.sun.jersey#jersey-server;1.9 in central\n",
      "\tfound asm#asm;3.2 in central\n",
      "\tfound log4j#log4j;1.2.17 in central\n",
      "\tfound net.java.dev.jets3t#jets3t;0.9.0 in central\n",
      "\tfound org.apache.httpcomponents#httpclient;4.2.5 in central\n",
      "\tfound org.apache.httpcomponents#httpcore;4.2.5 in central\n",
      "\tfound com.jamesmurty.utils#java-xmlbuilder;0.4 in central\n",
      "\tfound commons-lang#commons-lang;2.6 in central\n",
      "\tfound commons-configuration#commons-configuration;1.6 in central\n",
      "\tfound commons-digester#commons-digester;1.8 in central\n",
      "\tfound commons-beanutils#commons-beanutils;1.7.0 in central\n",
      "\tfound commons-beanutils#commons-beanutils-core;1.8.0 in central\n",
      "\tfound org.slf4j#slf4j-api;1.7.10 in central\n",
      "\tfound org.apache.avro#avro;1.7.4 in central\n",
      "\tfound com.thoughtworks.paranamer#paranamer;2.3 in central\n",
      "\tfound org.xerial.snappy#snappy-java;1.0.4.1 in central\n",
      "\tfound org.apache.commons#commons-compress;1.4.1 in central\n",
      "\tfound org.tukaani#xz;1.0 in central\n",
      "\tfound com.google.protobuf#protobuf-java;2.5.0 in central\n",
      "\tfound com.google.code.gson#gson;2.2.4 in central\n",
      "\tfound org.apache.hadoop#hadoop-auth;2.7.3 in central\n",
      "\tfound org.apache.directory.server#apacheds-kerberos-codec;2.0.0-M15 in central\n",
      "\tfound org.apache.directory.server#apacheds-i18n;2.0.0-M15 in central\n",
      "\tfound org.apache.directory.api#api-asn1-api;1.0.0-M20 in central\n",
      "\tfound org.apache.directory.api#api-util;1.0.0-M20 in central\n",
      "\tfound org.apache.zookeeper#zookeeper;3.4.6 in central\n",
      "\tfound org.slf4j#slf4j-log4j12;1.7.10 in central\n",
      "\tfound io.netty#netty;3.6.2.Final in central\n",
      "\tfound org.apache.curator#curator-framework;2.7.1 in central\n",
      "\tfound org.apache.curator#curator-client;2.7.1 in central\n",
      "\tfound com.jcraft#jsch;0.1.42 in central\n",
      "\tfound org.apache.curator#curator-recipes;2.7.1 in central\n",
      "\tfound org.apache.htrace#htrace-core;3.1.0-incubating in central\n",
      "\tfound javax.servlet.jsp#jsp-api;2.1 in central\n",
      "\tfound jline#jline;0.9.94 in central\n",
      "\tfound com.fasterxml.jackson.core#jackson-databind;2.2.3 in central\n",
      "\tfound com.fasterxml.jackson.core#jackson-annotations;2.2.3 in central\n",
      "\tfound com.fasterxml.jackson.core#jackson-core;2.2.3 in central\n",
      ":: resolution report :: resolve 11574ms :: artifacts dl 97ms\n",
      "\t:: modules in use:\n",
      "\tasm#asm;3.2 from central in [default]\n",
      "\tcom.amazonaws#aws-java-sdk;1.7.4 from central in [default]\n",
      "\tcom.fasterxml.jackson.core#jackson-annotations;2.2.3 from central in [default]\n",
      "\tcom.fasterxml.jackson.core#jackson-core;2.2.3 from central in [default]\n",
      "\tcom.fasterxml.jackson.core#jackson-databind;2.2.3 from central in [default]\n",
      "\tcom.google.code.findbugs#jsr305;3.0.0 from central in [default]\n",
      "\tcom.google.code.gson#gson;2.2.4 from central in [default]\n",
      "\tcom.google.guava#guava;11.0.2 from central in [default]\n",
      "\tcom.google.protobuf#protobuf-java;2.5.0 from central in [default]\n",
      "\tcom.jamesmurty.utils#java-xmlbuilder;0.4 from central in [default]\n",
      "\tcom.jcraft#jsch;0.1.42 from central in [default]\n",
      "\tcom.sun.jersey#jersey-core;1.9 from central in [default]\n",
      "\tcom.sun.jersey#jersey-json;1.9 from central in [default]\n",
      "\tcom.sun.jersey#jersey-server;1.9 from central in [default]\n",
      "\tcom.sun.xml.bind#jaxb-impl;2.2.3-1 from central in [default]\n",
      "\tcom.thoughtworks.paranamer#paranamer;2.3 from central in [default]\n",
      "\tcommons-beanutils#commons-beanutils;1.7.0 from central in [default]\n",
      "\tcommons-beanutils#commons-beanutils-core;1.8.0 from central in [default]\n",
      "\tcommons-cli#commons-cli;1.2 from central in [default]\n",
      "\tcommons-codec#commons-codec;1.4 from central in [default]\n",
      "\tcommons-collections#commons-collections;3.2.2 from central in [default]\n",
      "\tcommons-configuration#commons-configuration;1.6 from central in [default]\n",
      "\tcommons-digester#commons-digester;1.8 from central in [default]\n",
      "\tcommons-httpclient#commons-httpclient;3.1 from central in [default]\n",
      "\tcommons-io#commons-io;2.4 from central in [default]\n",
      "\tcommons-lang#commons-lang;2.6 from central in [default]\n",
      "\tcommons-logging#commons-logging;1.1.3 from central in [default]\n",
      "\tcommons-net#commons-net;3.1 from central in [default]\n",
      "\tio.netty#netty;3.6.2.Final from central in [default]\n",
      "\tjavax.activation#activation;1.1 from central in [default]\n",
      "\tjavax.servlet#servlet-api;2.5 from central in [default]\n",
      "\tjavax.servlet.jsp#jsp-api;2.1 from central in [default]\n",
      "\tjavax.xml.bind#jaxb-api;2.2.2 from central in [default]\n",
      "\tjavax.xml.stream#stax-api;1.0-2 from central in [default]\n",
      "\tjline#jline;0.9.94 from central in [default]\n",
      "\tjoda-time#joda-time;2.12.2 from central in [default]\n",
      "\tlog4j#log4j;1.2.17 from central in [default]\n",
      "\tnet.java.dev.jets3t#jets3t;0.9.0 from central in [default]\n",
      "\torg.apache.avro#avro;1.7.4 from central in [default]\n",
      "\torg.apache.commons#commons-compress;1.4.1 from central in [default]\n",
      "\torg.apache.commons#commons-math3;3.1.1 from central in [default]\n",
      "\torg.apache.curator#curator-client;2.7.1 from central in [default]\n",
      "\torg.apache.curator#curator-framework;2.7.1 from central in [default]\n",
      "\torg.apache.curator#curator-recipes;2.7.1 from central in [default]\n",
      "\torg.apache.directory.api#api-asn1-api;1.0.0-M20 from central in [default]\n",
      "\torg.apache.directory.api#api-util;1.0.0-M20 from central in [default]\n",
      "\torg.apache.directory.server#apacheds-i18n;2.0.0-M15 from central in [default]\n",
      "\torg.apache.directory.server#apacheds-kerberos-codec;2.0.0-M15 from central in [default]\n",
      "\torg.apache.hadoop#hadoop-annotations;2.7.3 from central in [default]\n",
      "\torg.apache.hadoop#hadoop-auth;2.7.3 from central in [default]\n",
      "\torg.apache.hadoop#hadoop-aws;2.7.3 from central in [default]\n",
      "\torg.apache.hadoop#hadoop-common;2.7.3 from central in [default]\n",
      "\torg.apache.htrace#htrace-core;3.1.0-incubating from central in [default]\n",
      "\torg.apache.httpcomponents#httpclient;4.2.5 from central in [default]\n",
      "\torg.apache.httpcomponents#httpcore;4.2.5 from central in [default]\n",
      "\torg.apache.zookeeper#zookeeper;3.4.6 from central in [default]\n",
      "\torg.codehaus.jackson#jackson-core-asl;1.9.13 from central in [default]\n",
      "\torg.codehaus.jackson#jackson-jaxrs;1.9.13 from central in [default]\n",
      "\torg.codehaus.jackson#jackson-mapper-asl;1.9.13 from central in [default]\n",
      "\torg.codehaus.jackson#jackson-xc;1.9.13 from central in [default]\n",
      "\torg.codehaus.jettison#jettison;1.1 from central in [default]\n",
      "\torg.mortbay.jetty#jetty;6.1.26 from central in [default]\n",
      "\torg.mortbay.jetty#jetty-util;6.1.26 from central in [default]\n",
      "\torg.slf4j#slf4j-api;1.7.10 from central in [default]\n",
      "\torg.slf4j#slf4j-log4j12;1.7.10 from central in [default]\n",
      "\torg.tukaani#xz;1.0 from central in [default]\n",
      "\torg.xerial.snappy#snappy-java;1.0.4.1 from central in [default]\n",
      "\txmlenc#xmlenc;0.52 from central in [default]\n",
      "\t:: evicted modules:\n",
      "\tcommons-logging#commons-logging;1.1.1 by [commons-logging#commons-logging;1.1.3] in [default]\n",
      "\torg.apache.httpcomponents#httpclient;4.2 by [org.apache.httpcomponents#httpclient;4.2.5] in [default]\n",
      "\torg.apache.httpcomponents#httpcore;4.2 by [org.apache.httpcomponents#httpcore;4.2.5] in [default]\n",
      "\tcommons-codec#commons-codec;1.6 by [commons-codec#commons-codec;1.3] in [default]\n",
      "\tcommons-codec#commons-codec;1.3 by [commons-codec#commons-codec;1.4] in [default]\n",
      "\tcom.fasterxml.jackson.core#jackson-core;2.1.1 by [com.fasterxml.jackson.core#jackson-core;2.2.3] in [default]\n",
      "\tcom.fasterxml.jackson.core#jackson-databind;2.1.1 by [com.fasterxml.jackson.core#jackson-databind;2.2.3] in [default]\n",
      "\tcom.fasterxml.jackson.core#jackson-annotations;2.1.1 by [com.fasterxml.jackson.core#jackson-annotations;2.2.3] in [default]\n",
      "\t---------------------------------------------------------------------\n",
      "\t|                  |            modules            ||   artifacts   |\n",
      "\t|       conf       | number| search|dwnlded|evicted|| number|dwnlded|\n",
      "\t---------------------------------------------------------------------\n",
      "\t|      default     |   76  |   1   |   0   |   8   ||   68  |   0   |\n",
      "\t---------------------------------------------------------------------\n",
      ":: retrieving :: org.apache.spark#spark-submit-parent-2703b1df-9388-4fe8-bc77-77d51bc92963\n",
      "\tconfs: [default]\n",
      "\t0 artifacts copied, 68 already retrieved (0kB/54ms)\n",
      "23/02/09 02:20:33 WARN NativeCodeLoader: Unable to load native-hadoop library for your platform... using builtin-java classes where applicable\n",
      "Using Spark's default log4j profile: org/apache/spark/log4j-defaults.properties\n",
      "Setting default log level to \"WARN\".\n",
      "To adjust logging level use sc.setLogLevel(newLevel). For SparkR, use setLogLevel(newLevel).\n"
     ]
    }
   ],
   "source": [
    "from finance_complaint.config.spark_manager import spark_session"
   ]
  },
  {
   "cell_type": "code",
   "execution_count": 3,
   "metadata": {},
   "outputs": [
    {
     "data": {
      "text/html": [
       "\n",
       "            <div>\n",
       "                <p><b>SparkSession - in-memory</b></p>\n",
       "                \n",
       "        <div>\n",
       "            <p><b>SparkContext</b></p>\n",
       "\n",
       "            <p><a href=\"http://192.168.29.135:4040\">Spark UI</a></p>\n",
       "\n",
       "            <dl>\n",
       "              <dt>Version</dt>\n",
       "                <dd><code>v3.2.1</code></dd>\n",
       "              <dt>Master</dt>\n",
       "                <dd><code>local[*]</code></dd>\n",
       "              <dt>AppName</dt>\n",
       "                <dd><code>finance_complaint</code></dd>\n",
       "            </dl>\n",
       "        </div>\n",
       "        \n",
       "            </div>\n",
       "        "
      ],
      "text/plain": [
       "<pyspark.sql.session.SparkSession at 0x7f43e85196a0>"
      ]
     },
     "execution_count": 3,
     "metadata": {},
     "output_type": "execute_result"
    }
   ],
   "source": [
    "spark_session"
   ]
  },
  {
   "cell_type": "code",
   "execution_count": 40,
   "metadata": {},
   "outputs": [],
   "source": [
    "df = spark_session.read.parquet(file_path)"
   ]
  },
  {
   "cell_type": "code",
   "execution_count": 41,
   "metadata": {},
   "outputs": [],
   "source": [
    "Expected_Column = ['consumer_disputed', 'company_response', 'consumer_consent_provided', 'submitted_via', 'issue', 'date_sent_to_company', 'date_received']"
   ]
  },
  {
   "cell_type": "code",
   "execution_count": 42,
   "metadata": {},
   "outputs": [],
   "source": [
    "df = df.select(*Expected_Column)"
   ]
  },
  {
   "cell_type": "code",
   "execution_count": 43,
   "metadata": {},
   "outputs": [
    {
     "name": "stdout",
     "output_type": "stream",
     "text": [
      "+-----------------+--------------------+-------------------------+-------------+--------------------+--------------------+--------------------+\n",
      "|consumer_disputed|    company_response|consumer_consent_provided|submitted_via|               issue|date_sent_to_company|       date_received|\n",
      "+-----------------+--------------------+-------------------------+-------------+--------------------+--------------------+--------------------+\n",
      "|              N/A|Closed with non-m...|     Consent not provided|          Web|Problem with a cr...|2022-10-11T12:00:...|2022-10-11T12:00:...|\n",
      "|              N/A|Closed with non-m...|     Consent not provided|          Web|Problem with a cr...|2022-10-10T12:00:...|2022-10-10T12:00:...|\n",
      "|              N/A|Closed with non-m...|         Consent provided|          Web|Problem with a cr...|2022-10-12T12:00:...|2022-10-12T12:00:...|\n",
      "|              N/A|Closed with non-m...|         Consent provided|          Web|Improper use of y...|2022-10-11T12:00:...|2022-10-11T12:00:...|\n",
      "|              N/A|Closed with non-m...|     Consent not provided|          Web|Improper use of y...|2022-10-26T12:00:...|2022-10-26T12:00:...|\n",
      "|              N/A|Closed with expla...|         Consent provided|          Web|       Fraud or scam|2022-10-28T12:00:...|2022-10-28T12:00:...|\n",
      "|              N/A|Closed with non-m...|         Consent provided|          Web|Incorrect informa...|2022-09-30T12:00:...|2022-09-30T12:00:...|\n",
      "|              N/A|Closed with non-m...|         Consent provided|          Web|Problem with a cr...|2022-10-26T12:00:...|2022-10-26T12:00:...|\n",
      "|              N/A|Closed with non-m...|     Consent not provided|          Web|Improper use of y...|2022-10-11T12:00:...|2022-10-11T12:00:...|\n",
      "|              N/A|Closed with non-m...|         Consent provided|          Web|Improper use of y...|2022-10-26T12:00:...|2022-10-26T12:00:...|\n",
      "|              N/A|Closed with non-m...|         Consent provided|          Web|Incorrect informa...|2022-10-11T12:00:...|2022-10-11T12:00:...|\n",
      "|              N/A|Closed with expla...|         Consent provided|          Web|Incorrect informa...|2022-10-05T12:00:...|2022-10-05T12:00:...|\n",
      "|              N/A|Closed with expla...|         Consent provided|          Web|Attempts to colle...|2022-10-26T12:00:...|2022-10-26T12:00:...|\n",
      "|              N/A|Closed with non-m...|     Consent not provided|          Web|Incorrect informa...|2022-10-11T12:00:...|2022-10-11T12:00:...|\n",
      "|              N/A|Closed with expla...|         Consent provided|          Web|Other features, t...|2022-11-02T12:00:...|2022-10-18T12:00:...|\n",
      "|              N/A|Closed with expla...|     Consent not provided|          Web|Improper use of y...|2022-10-30T12:00:...|2022-10-30T12:00:...|\n",
      "|              N/A|Closed with expla...|     Consent not provided|          Web|Improper use of y...|2022-10-12T12:00:...|2022-10-12T12:00:...|\n",
      "|              N/A|Closed with expla...|         Consent provided|          Web|Incorrect informa...|2022-10-05T12:00:...|2022-10-05T12:00:...|\n",
      "|              N/A|Closed with expla...|     Consent not provided|          Web|Incorrect informa...|2022-10-20T12:00:...|2022-10-20T12:00:...|\n",
      "|              N/A|Closed with expla...|     Consent not provided|          Web|Improper use of y...|2022-10-30T12:00:...|2022-10-30T12:00:...|\n",
      "+-----------------+--------------------+-------------------------+-------------+--------------------+--------------------+--------------------+\n",
      "only showing top 20 rows\n",
      "\n"
     ]
    }
   ],
   "source": [
    "df.show()"
   ]
  },
  {
   "cell_type": "code",
   "execution_count": 44,
   "metadata": {},
   "outputs": [],
   "source": [
    "from pyspark.ml.pipeline import Pipeline\n",
    "from typing import List"
   ]
  },
  {
   "cell_type": "code",
   "execution_count": 45,
   "metadata": {},
   "outputs": [],
   "source": [
    "from pyspark.ml import Transformer, Estimator, Model\n",
    "from pyspark.ml.param.shared import Param, Params, TypeConverters, HasOutputCols, HasInputCols\n",
    "from pyspark.ml.util import DefaultParamsReadable, DefaultParamsWritable\n",
    "from pyspark import keyword_only\n",
    "from pyspark.sql.types import TimestampType, LongType\n",
    "from pyspark.sql.functions import col, udf, desc\n",
    "from pyspark.ml.feature import Imputer, StringIndexer, VectorAssembler,OneHotEncoder, Tokenizer, HashingTF, IDF, StandardScaler\n"
   ]
  },
  {
   "cell_type": "code",
   "execution_count": 46,
   "metadata": {},
   "outputs": [
    {
     "name": "stdout",
     "output_type": "stream",
     "text": [
      "root\n",
      " |-- consumer_disputed: string (nullable = true)\n",
      " |-- company_response: string (nullable = true)\n",
      " |-- consumer_consent_provided: string (nullable = true)\n",
      " |-- submitted_via: string (nullable = true)\n",
      " |-- issue: string (nullable = true)\n",
      " |-- date_sent_to_company: string (nullable = true)\n",
      " |-- date_received: string (nullable = true)\n",
      "\n"
     ]
    }
   ],
   "source": [
    "df.printSchema()"
   ]
  },
  {
   "cell_type": "code",
   "execution_count": 47,
   "metadata": {},
   "outputs": [],
   "source": [
    "df=df.withColumn('date_received',col(\"date_received\").cast(TimestampType()))"
   ]
  },
  {
   "cell_type": "code",
   "execution_count": 48,
   "metadata": {},
   "outputs": [],
   "source": [
    "df = df.withColumn('date_sent_to_company', col('date_sent_to_company').cast(TimestampType()))"
   ]
  },
  {
   "cell_type": "code",
   "execution_count": 49,
   "metadata": {},
   "outputs": [],
   "source": [
    "df = df.withColumn(\"diff_in_days\",(col('date_sent_to_company').cast(LongType())-col('date_received').cast(LongType()))/(60*60*24))"
   ]
  },
  {
   "cell_type": "code",
   "execution_count": 50,
   "metadata": {},
   "outputs": [
    {
     "name": "stdout",
     "output_type": "stream",
     "text": [
      "+-----------------+--------------------+-------------------------+-------------+--------------------+--------------------+-------------------+------------+\n",
      "|consumer_disputed|    company_response|consumer_consent_provided|submitted_via|               issue|date_sent_to_company|      date_received|diff_in_days|\n",
      "+-----------------+--------------------+-------------------------+-------------+--------------------+--------------------+-------------------+------------+\n",
      "|              N/A|Closed with non-m...|     Consent not provided|          Web|Problem with a cr...| 2022-10-11 22:30:00|2022-10-11 22:30:00|         0.0|\n",
      "|              N/A|Closed with non-m...|     Consent not provided|          Web|Problem with a cr...| 2022-10-10 22:30:00|2022-10-10 22:30:00|         0.0|\n",
      "|              N/A|Closed with non-m...|         Consent provided|          Web|Problem with a cr...| 2022-10-12 22:30:00|2022-10-12 22:30:00|         0.0|\n",
      "|              N/A|Closed with non-m...|         Consent provided|          Web|Improper use of y...| 2022-10-11 22:30:00|2022-10-11 22:30:00|         0.0|\n",
      "|              N/A|Closed with non-m...|     Consent not provided|          Web|Improper use of y...| 2022-10-26 22:30:00|2022-10-26 22:30:00|         0.0|\n",
      "+-----------------+--------------------+-------------------------+-------------+--------------------+--------------------+-------------------+------------+\n",
      "only showing top 5 rows\n",
      "\n"
     ]
    }
   ],
   "source": [
    "df.show(5)"
   ]
  },
  {
   "cell_type": "code",
   "execution_count": 51,
   "metadata": {},
   "outputs": [],
   "source": [
    "df = df.drop(*['date_sent_to_company', \"date_received\"])"
   ]
  },
  {
   "cell_type": "code",
   "execution_count": 52,
   "metadata": {},
   "outputs": [],
   "source": [
    "from pyspark.sql import DataFrame"
   ]
  },
  {
   "cell_type": "code",
   "execution_count": 53,
   "metadata": {},
   "outputs": [],
   "source": [
    "train_dataframe, test_dataframe = df.randomSplit([0.7, 0.3])"
   ]
  },
  {
   "cell_type": "code",
   "execution_count": 54,
   "metadata": {},
   "outputs": [
    {
     "data": {
      "text/plain": [
       "7025"
      ]
     },
     "execution_count": 54,
     "metadata": {},
     "output_type": "execute_result"
    }
   ],
   "source": [
    "train_dataframe.count()"
   ]
  },
  {
   "cell_type": "code",
   "execution_count": 55,
   "metadata": {},
   "outputs": [
    {
     "name": "stdout",
     "output_type": "stream",
     "text": [
      "root\n",
      " |-- consumer_disputed: string (nullable = true)\n",
      " |-- company_response: string (nullable = true)\n",
      " |-- consumer_consent_provided: string (nullable = true)\n",
      " |-- submitted_via: string (nullable = true)\n",
      " |-- issue: string (nullable = true)\n",
      " |-- diff_in_days: double (nullable = true)\n",
      "\n"
     ]
    }
   ],
   "source": [
    "df.printSchema()"
   ]
  },
  {
   "cell_type": "code",
   "execution_count": 56,
   "metadata": {},
   "outputs": [
    {
     "data": {
      "text/plain": [
       "['diff_in_days',\n",
       " 'company_response',\n",
       " 'consumer_consent_provided',\n",
       " 'submitted_via',\n",
       " 'issue']"
      ]
     },
     "execution_count": 56,
     "metadata": {},
     "output_type": "execute_result"
    }
   ],
   "source": [
    "numerical_features = ['diff_in_days']\n",
    "one_hot_features = ['company_response', 'consumer_consent_provided', 'submitted_via']\n",
    "tokenizer_feature = ['issue']\n",
    "target_feature = ['company_response']\n",
    "required_input_features = numerical_features+one_hot_features+tokenizer_feature\n",
    "required_input_features"
   ]
  },
  {
   "cell_type": "code",
   "execution_count": 57,
   "metadata": {},
   "outputs": [
    {
     "data": {
      "text/plain": [
       "{'diff_in_days': 0,\n",
       " 'company_response': 0,\n",
       " 'consumer_consent_provided': 8,\n",
       " 'submitted_via': 0,\n",
       " 'issue': 0}"
      ]
     },
     "execution_count": 57,
     "metadata": {},
     "output_type": "execute_result"
    }
   ],
   "source": [
    "from pyspark.sql.functions import isnull\n",
    "null_counts = {}\n",
    "for column in required_input_features:\n",
    "    null_count= df.filter(isnull(col(column))).count()\n",
    "    null_counts.update({column:null_count})\n",
    "null_counts"
   ]
  },
  {
   "cell_type": "code",
   "execution_count": 58,
   "metadata": {},
   "outputs": [],
   "source": [
    "stages = []\n",
    "\n",
    "# impute null in numerical columns ********* done\n",
    "# frequrency imputer in one_hot_features ***** done\n",
    "# string_indexer for imputed one_hot_features *** done\n",
    "#  one_hot_encoder for  string_indexer of imputed one_hot_features *** done\n",
    "# tokenizing the tokenizer feature\n",
    "# Hashing the tokenized feature\n",
    "# IDF for above tokenized feature\n",
    "# vector assembler\n",
    "# standard scaler\n",
    "# pipeline for all the above"
   ]
  },
  {
   "cell_type": "code",
   "execution_count": 59,
   "metadata": {},
   "outputs": [],
   "source": [
    "impute_num_col = Imputer(strategy='median', inputCol = \"diff_in_days\",  outputCol = 'im_diff_in_days' )\n",
    "stages.append(impute_num_col)"
   ]
  },
  {
   "cell_type": "code",
   "execution_count": 60,
   "metadata": {},
   "outputs": [],
   "source": [
    "class FrequencyImputer(\n",
    "    Estimator, HasInputCols, HasOutputCols,\n",
    "    DefaultParamsReadable, DefaultParamsWritable):\n",
    "    topCategorys = Param(Params._dummy(), \"getTopCategorys\", \"getTopCategorys\",\n",
    "                         typeConverter=TypeConverters.toListString)\n",
    "\n",
    "    @keyword_only\n",
    "    def __init__(self, inputCols: List[str] = None, outputCols: List[str] = None, ):\n",
    "        super(FrequencyImputer, self).__init__()\n",
    "        self.topCategorys = Param(self, \"topCategorys\", \"\")\n",
    "        self._setDefault(topCategorys=\"\")\n",
    "        kwargs = self._input_kwargs\n",
    "        print(kwargs)\n",
    "        self.setParams(**kwargs)\n",
    "\n",
    "    @keyword_only\n",
    "    def setParams(self, inputCols: List[str] = None, outputCols: List[str] = None, ):\n",
    "        kwargs = self._input_kwargs\n",
    "        return self._set(**kwargs)\n",
    "\n",
    "    def setTopCategorys(self, value: List[str]):\n",
    "        return self._set(topCategorys=value)\n",
    "\n",
    "    def getTopCategorys(self):\n",
    "        return self.getOrDefault(self.topCategorys)\n",
    "\n",
    "    def setInputCols(self, value: List[str]):\n",
    "        \"\"\"\n",
    "        Sets the value of :py:attr:`inputCol`.\n",
    "        \"\"\"\n",
    "        return self._set(inputCols=value)\n",
    "\n",
    "    def setOutputCols(self, value: List[str]):\n",
    "        \"\"\"\n",
    "        Sets the value of :py:attr:`outputCol`.\n",
    "        \"\"\"\n",
    "        return self._set(outputCols=value)\n",
    "\n",
    "    def _fit(self, dataset: DataFrame):\n",
    "        inputCols = self.getInputCols()\n",
    "        topCategorys = []\n",
    "        for column in inputCols:\n",
    "            categoryCountByDesc = dataset.groupBy(column).count().filter(f'{column} is not null').sort(\n",
    "                desc('count'))\n",
    "            topCat = categoryCountByDesc.take(1)[0][column]\n",
    "            topCategorys.append(topCat)\n",
    "\n",
    "        self.setTopCategorys(value=topCategorys)\n",
    "\n",
    "        estimator = FrequencyImputerModel(inputCols=self.getInputCols(),\n",
    "                                          outputCols=self.getOutputCols())\n",
    "\n",
    "        estimator.setTopCategorys(value=topCategorys)\n",
    "        return estimator\n",
    "\n",
    "\n",
    "class FrequencyImputerModel(FrequencyImputer, Transformer):\n",
    "\n",
    "    def __init__(self, inputCols: List[str] = None, outputCols: List[str] = None, ):\n",
    "        super(FrequencyImputerModel, self).__init__(inputCols=inputCols, outputCols=outputCols)\n",
    "\n",
    "    def _transform(self, dataset: DataFrame):\n",
    "        topCategorys = self.getTopCategorys()\n",
    "        outputCols = self.getOutputCols()\n",
    "\n",
    "        updateMissingValue = dict(zip(outputCols, topCategorys))\n",
    "\n",
    "        inputCols = self.getInputCols()\n",
    "        for outputColumn, inputColumn in zip(outputCols, inputCols):\n",
    "            dataset = dataset.withColumn(outputColumn, col(inputColumn))\n",
    "            # print(dataset.columns)\n",
    "            # print(outputColumn, inputColumn)\n",
    "\n",
    "        dataset = dataset.na.fill(updateMissingValue)\n",
    "\n",
    "        return dataset"
   ]
  },
  {
   "cell_type": "code",
   "execution_count": 61,
   "metadata": {},
   "outputs": [
    {
     "name": "stdout",
     "output_type": "stream",
     "text": [
      "{'inputCols': ['company_response', 'consumer_consent_provided', 'submitted_via'], 'outputCols': ['im_company_response', 'im_consumer_consent_provided', 'im_submitted_via']}\n"
     ]
    }
   ],
   "source": [
    "frequency_imputer = FrequencyImputer(inputCols=one_hot_features, \n",
    "                                        outputCols=['im_company_response', 'im_consumer_consent_provided', 'im_submitted_via'])\n",
    "\n",
    "stages.append(frequency_imputer)"
   ]
  },
  {
   "cell_type": "code",
   "execution_count": 62,
   "metadata": {},
   "outputs": [],
   "source": [
    "string_indexer = StringIndexer(inputCols=['im_company_response', 'im_consumer_consent_provided', 'im_submitted_via'],\n",
    "                                             outputCols=['si_im_company_response', 'si_im_consumer_consent_provided', 'si_im_submitted_via'])\n",
    "                                \n",
    "stages.append(string_indexer)"
   ]
  },
  {
   "cell_type": "code",
   "execution_count": 63,
   "metadata": {},
   "outputs": [],
   "source": [
    "one_hot_encoder = OneHotEncoder(inputCols=string_indexer.getOutputCols(), \n",
    "                                outputCols=[f\"ohe_{col}\" for col in string_indexer.getOutputCols()])\n",
    "                            \n",
    "stages.append(one_hot_encoder)"
   ]
  },
  {
   "cell_type": "code",
   "execution_count": 64,
   "metadata": {},
   "outputs": [],
   "source": [
    "tokenizer = Tokenizer(inputCol='issue', outputCol=\"words\")\n",
    "\n",
    "stages.append(tokenizer)"
   ]
  },
  {
   "cell_type": "code",
   "execution_count": 65,
   "metadata": {},
   "outputs": [],
   "source": [
    "hashing_tf = HashingTF(inputCol=tokenizer.getOutputCol(), outputCol=\"rawFeatures\", numFeatures=40)\n",
    "\n",
    "stages.append(hashing_tf)"
   ]
  },
  {
   "cell_type": "code",
   "execution_count": 66,
   "metadata": {},
   "outputs": [],
   "source": [
    "idf = IDF(inputCol=hashing_tf.getOutputCol(), outputCol='tf_issue')\n",
    "\n",
    "stages.append(idf)"
   ]
  },
  {
   "cell_type": "code",
   "execution_count": 67,
   "metadata": {},
   "outputs": [],
   "source": [
    "vector_assembler = VectorAssembler(inputCols= one_hot_encoder.getOutputCols() + [idf.getOutputCol()] + [impute_num_col.getOutputCol()], \n",
    "                                        outputCol='va_input_features')\n",
    "\n",
    "stages.append(vector_assembler)"
   ]
  },
  {
   "cell_type": "code",
   "execution_count": 68,
   "metadata": {},
   "outputs": [],
   "source": [
    "standard_scaler = StandardScaler(inputCol=vector_assembler.getOutputCol(), \n",
    "                                    outputCol=\"scaled_features\")\n",
    "stages.append(standard_scaler)"
   ]
  },
  {
   "cell_type": "code",
   "execution_count": 69,
   "metadata": {},
   "outputs": [],
   "source": [
    "pipeline = Pipeline(stages=stages)"
   ]
  },
  {
   "cell_type": "code",
   "execution_count": 70,
   "metadata": {},
   "outputs": [
    {
     "data": {
      "text/plain": [
       "7025"
      ]
     },
     "execution_count": 70,
     "metadata": {},
     "output_type": "execute_result"
    }
   ],
   "source": [
    "train_dataframe.count()"
   ]
  },
  {
   "cell_type": "code",
   "execution_count": 74,
   "metadata": {},
   "outputs": [
    {
     "name": "stdout",
     "output_type": "stream",
     "text": [
      "{'inputCols': ['company_response', 'consumer_consent_provided', 'submitted_via'], 'outputCols': ['im_company_response', 'im_consumer_consent_provided', 'im_submitted_via']}\n"
     ]
    },
    {
     "name": "stderr",
     "output_type": "stream",
     "text": [
      "                                                                                \r"
     ]
    }
   ],
   "source": [
    "transformed_train_dataframe_ = pipeline.fit(train_dataframe).transform(train_dataframe)"
   ]
  },
  {
   "cell_type": "code",
   "execution_count": 75,
   "metadata": {},
   "outputs": [
    {
     "name": "stdout",
     "output_type": "stream",
     "text": [
      "+-----------------+--------------------+-------------------------+-------------+--------------------+------------+---------------+--------------------+----------------------------+----------------+----------------------+-------------------------------+-------------------+--------------------------+-----------------------------------+-----------------------+--------------------+--------------------+--------------------+--------------------+--------------------+\n",
      "|consumer_disputed|    company_response|consumer_consent_provided|submitted_via|               issue|diff_in_days|im_diff_in_days| im_company_response|im_consumer_consent_provided|im_submitted_via|si_im_company_response|si_im_consumer_consent_provided|si_im_submitted_via|ohe_si_im_company_response|ohe_si_im_consumer_consent_provided|ohe_si_im_submitted_via|               words|         rawFeatures|            tf_issue|   va_input_features|     scaled_features|\n",
      "+-----------------+--------------------+-------------------------+-------------+--------------------+------------+---------------+--------------------+----------------------------+----------------+----------------------+-------------------------------+-------------------+--------------------------+-----------------------------------+-----------------------+--------------------+--------------------+--------------------+--------------------+--------------------+\n",
      "|              N/A|Closed with expla...|                     null|          Web|Struggling to pay...|        47.0|           47.0|Closed with expla...|        Consent not provided|             Web|                   0.0|                            0.0|                0.0|             (3,[0],[1.0])|                      (4,[0],[1.0])|          (4,[0],[1.0])|[struggling, to, ...|(40,[5,8,17,31],[...|(40,[5,8,17,31],[...|(52,[0,3,7,16,19,...|(52,[0,3,7,16,19,...|\n",
      "|              N/A|Closed with expla...|                     null| Web Referral|Struggling to pay...|         0.0|            0.0|Closed with expla...|        Consent not provided|    Web Referral|                   0.0|                            0.0|                4.0|             (3,[0],[1.0])|                      (4,[0],[1.0])|              (4,[],[])|[struggling, to, ...|(40,[5,8,17,31],[...|(40,[5,8,17,31],[...|(52,[0,3,16,19,28...|(52,[0,3,16,19,28...|\n",
      "|              N/A|Closed with expla...|                     null| Web Referral|Trouble during pa...|         0.0|            0.0|Closed with expla...|        Consent not provided|    Web Referral|                   0.0|                            0.0|                4.0|             (3,[0],[1.0])|                      (4,[0],[1.0])|              (4,[],[])|[trouble, during,...|(40,[0,7,15,29],[...|(40,[0,7,15,29],[...|(52,[0,3,11,18,26...|(52,[0,3,11,18,26...|\n",
      "|              N/A|Closed with expla...|     Consent not provided|          Web|Advertising and m...|         0.0|            0.0|Closed with expla...|        Consent not provided|             Web|                   0.0|                            0.0|                0.0|             (3,[0],[1.0])|                      (4,[0],[1.0])|          (4,[0],[1.0])|[advertising, and...|(40,[0,11,14,30,3...|(40,[0,11,14,30,3...|(52,[0,3,7,11,22,...|(52,[0,3,7,11,22,...|\n",
      "|              N/A|Closed with expla...|     Consent not provided|          Web|Applying for a mo...|         0.0|            0.0|Closed with expla...|        Consent not provided|             Web|                   0.0|                            0.0|                0.0|             (3,[0],[1.0])|                      (4,[0],[1.0])|          (4,[0],[1.0])|[applying, for, a...|(40,[10,11,13,21,...|(40,[10,11,13,21,...|(52,[0,3,7,21,22,...|(52,[0,3,7,21,22,...|\n",
      "|              N/A|Closed with expla...|     Consent not provided|          Web|Applying for a mo...|         0.0|            0.0|Closed with expla...|        Consent not provided|             Web|                   0.0|                            0.0|                0.0|             (3,[0],[1.0])|                      (4,[0],[1.0])|          (4,[0],[1.0])|[applying, for, a...|(40,[10,11,13,21,...|(40,[10,11,13,21,...|(52,[0,3,7,21,22,...|(52,[0,3,7,21,22,...|\n",
      "|              N/A|Closed with expla...|     Consent not provided|          Web|Applying for a mo...|         0.0|            0.0|Closed with expla...|        Consent not provided|             Web|                   0.0|                            0.0|                0.0|             (3,[0],[1.0])|                      (4,[0],[1.0])|          (4,[0],[1.0])|[applying, for, a...|(40,[10,11,13,21,...|(40,[10,11,13,21,...|(52,[0,3,7,21,22,...|(52,[0,3,7,21,22,...|\n",
      "|              N/A|Closed with expla...|     Consent not provided|          Web|Applying for a mo...|         0.0|            0.0|Closed with expla...|        Consent not provided|             Web|                   0.0|                            0.0|                0.0|             (3,[0],[1.0])|                      (4,[0],[1.0])|          (4,[0],[1.0])|[applying, for, a...|(40,[10,11,13,21,...|(40,[10,11,13,21,...|(52,[0,3,7,21,22,...|(52,[0,3,7,21,22,...|\n",
      "|              N/A|Closed with expla...|     Consent not provided|          Web|Applying for a mo...|        20.0|           20.0|Closed with expla...|        Consent not provided|             Web|                   0.0|                            0.0|                0.0|             (3,[0],[1.0])|                      (4,[0],[1.0])|          (4,[0],[1.0])|[applying, for, a...|(40,[10,11,13,21,...|(40,[10,11,13,21,...|(52,[0,3,7,21,22,...|(52,[0,3,7,21,22,...|\n",
      "|              N/A|Closed with expla...|     Consent not provided|          Web|Attempts to colle...|         0.0|            0.0|Closed with expla...|        Consent not provided|             Web|                   0.0|                            0.0|                0.0|             (3,[0],[1.0])|                      (4,[0],[1.0])|          (4,[0],[1.0])|[attempts, to, co...|(40,[3,5,8,14,15,...|(40,[3,5,8,14,15,...|(52,[0,3,7,14,16,...|(52,[0,3,7,14,16,...|\n",
      "|              N/A|Closed with expla...|     Consent not provided|          Web|Attempts to colle...|         0.0|            0.0|Closed with expla...|        Consent not provided|             Web|                   0.0|                            0.0|                0.0|             (3,[0],[1.0])|                      (4,[0],[1.0])|          (4,[0],[1.0])|[attempts, to, co...|(40,[3,5,8,14,15,...|(40,[3,5,8,14,15,...|(52,[0,3,7,14,16,...|(52,[0,3,7,14,16,...|\n",
      "|              N/A|Closed with expla...|     Consent not provided|          Web|Attempts to colle...|         0.0|            0.0|Closed with expla...|        Consent not provided|             Web|                   0.0|                            0.0|                0.0|             (3,[0],[1.0])|                      (4,[0],[1.0])|          (4,[0],[1.0])|[attempts, to, co...|(40,[3,5,8,14,15,...|(40,[3,5,8,14,15,...|(52,[0,3,7,14,16,...|(52,[0,3,7,14,16,...|\n",
      "|              N/A|Closed with expla...|     Consent not provided|          Web|Attempts to colle...|         0.0|            0.0|Closed with expla...|        Consent not provided|             Web|                   0.0|                            0.0|                0.0|             (3,[0],[1.0])|                      (4,[0],[1.0])|          (4,[0],[1.0])|[attempts, to, co...|(40,[3,5,8,14,15,...|(40,[3,5,8,14,15,...|(52,[0,3,7,14,16,...|(52,[0,3,7,14,16,...|\n",
      "|              N/A|Closed with expla...|     Consent not provided|          Web|Attempts to colle...|         0.0|            0.0|Closed with expla...|        Consent not provided|             Web|                   0.0|                            0.0|                0.0|             (3,[0],[1.0])|                      (4,[0],[1.0])|          (4,[0],[1.0])|[attempts, to, co...|(40,[3,5,8,14,15,...|(40,[3,5,8,14,15,...|(52,[0,3,7,14,16,...|(52,[0,3,7,14,16,...|\n",
      "|              N/A|Closed with expla...|     Consent not provided|          Web|Attempts to colle...|         0.0|            0.0|Closed with expla...|        Consent not provided|             Web|                   0.0|                            0.0|                0.0|             (3,[0],[1.0])|                      (4,[0],[1.0])|          (4,[0],[1.0])|[attempts, to, co...|(40,[3,5,8,14,15,...|(40,[3,5,8,14,15,...|(52,[0,3,7,14,16,...|(52,[0,3,7,14,16,...|\n",
      "|              N/A|Closed with expla...|     Consent not provided|          Web|Attempts to colle...|         0.0|            0.0|Closed with expla...|        Consent not provided|             Web|                   0.0|                            0.0|                0.0|             (3,[0],[1.0])|                      (4,[0],[1.0])|          (4,[0],[1.0])|[attempts, to, co...|(40,[3,5,8,14,15,...|(40,[3,5,8,14,15,...|(52,[0,3,7,14,16,...|(52,[0,3,7,14,16,...|\n",
      "|              N/A|Closed with expla...|     Consent not provided|          Web|Attempts to colle...|         0.0|            0.0|Closed with expla...|        Consent not provided|             Web|                   0.0|                            0.0|                0.0|             (3,[0],[1.0])|                      (4,[0],[1.0])|          (4,[0],[1.0])|[attempts, to, co...|(40,[3,5,8,14,15,...|(40,[3,5,8,14,15,...|(52,[0,3,7,14,16,...|(52,[0,3,7,14,16,...|\n",
      "|              N/A|Closed with expla...|     Consent not provided|          Web|Attempts to colle...|         0.0|            0.0|Closed with expla...|        Consent not provided|             Web|                   0.0|                            0.0|                0.0|             (3,[0],[1.0])|                      (4,[0],[1.0])|          (4,[0],[1.0])|[attempts, to, co...|(40,[3,5,8,14,15,...|(40,[3,5,8,14,15,...|(52,[0,3,7,14,16,...|(52,[0,3,7,14,16,...|\n",
      "|              N/A|Closed with expla...|     Consent not provided|          Web|Attempts to colle...|         0.0|            0.0|Closed with expla...|        Consent not provided|             Web|                   0.0|                            0.0|                0.0|             (3,[0],[1.0])|                      (4,[0],[1.0])|          (4,[0],[1.0])|[attempts, to, co...|(40,[3,5,8,14,15,...|(40,[3,5,8,14,15,...|(52,[0,3,7,14,16,...|(52,[0,3,7,14,16,...|\n",
      "|              N/A|Closed with expla...|     Consent not provided|          Web|Attempts to colle...|         0.0|            0.0|Closed with expla...|        Consent not provided|             Web|                   0.0|                            0.0|                0.0|             (3,[0],[1.0])|                      (4,[0],[1.0])|          (4,[0],[1.0])|[attempts, to, co...|(40,[3,5,8,14,15,...|(40,[3,5,8,14,15,...|(52,[0,3,7,14,16,...|(52,[0,3,7,14,16,...|\n",
      "+-----------------+--------------------+-------------------------+-------------+--------------------+------------+---------------+--------------------+----------------------------+----------------+----------------------+-------------------------------+-------------------+--------------------------+-----------------------------------+-----------------------+--------------------+--------------------+--------------------+--------------------+--------------------+\n",
      "only showing top 20 rows\n",
      "\n"
     ]
    }
   ],
   "source": [
    "transformed_train_dataframe_.show()"
   ]
  },
  {
   "cell_type": "code",
   "execution_count": 77,
   "metadata": {},
   "outputs": [
    {
     "name": "stdout",
     "output_type": "stream",
     "text": [
      "+--------------------+\n",
      "|     scaled_features|\n",
      "+--------------------+\n",
      "|(52,[0,3,7,16,19,...|\n",
      "|(52,[0,3,16,19,28...|\n",
      "|(52,[0,3,11,18,26...|\n",
      "|(52,[0,3,7,11,22,...|\n",
      "|(52,[0,3,7,21,22,...|\n",
      "|(52,[0,3,7,21,22,...|\n",
      "|(52,[0,3,7,21,22,...|\n",
      "|(52,[0,3,7,21,22,...|\n",
      "|(52,[0,3,7,21,22,...|\n",
      "|(52,[0,3,7,14,16,...|\n",
      "|(52,[0,3,7,14,16,...|\n",
      "|(52,[0,3,7,14,16,...|\n",
      "|(52,[0,3,7,14,16,...|\n",
      "|(52,[0,3,7,14,16,...|\n",
      "|(52,[0,3,7,14,16,...|\n",
      "|(52,[0,3,7,14,16,...|\n",
      "|(52,[0,3,7,14,16,...|\n",
      "|(52,[0,3,7,14,16,...|\n",
      "|(52,[0,3,7,14,16,...|\n",
      "|(52,[0,3,7,14,16,...|\n",
      "+--------------------+\n",
      "only showing top 20 rows\n",
      "\n"
     ]
    }
   ],
   "source": [
    "transformed_train_dataframe_.select('scaled_features').show()"
   ]
  },
  {
   "cell_type": "code",
   "execution_count": null,
   "metadata": {},
   "outputs": [],
   "source": []
  }
 ],
 "metadata": {
  "kernelspec": {
   "display_name": "Python 3",
   "language": "python",
   "name": "python3"
  },
  "language_info": {
   "codemirror_mode": {
    "name": "ipython",
    "version": 3
   },
   "file_extension": ".py",
   "mimetype": "text/x-python",
   "name": "python",
   "nbconvert_exporter": "python",
   "pygments_lexer": "ipython3",
   "version": "3.8.0"
  },
  "orig_nbformat": 4,
  "vscode": {
   "interpreter": {
    "hash": "5c11c6fc7e60c5e4a6c339653e31e221c3c8e0a6d78e270ae43abad86caf2be1"
   }
  }
 },
 "nbformat": 4,
 "nbformat_minor": 2
}
